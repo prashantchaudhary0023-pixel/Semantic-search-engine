{
 "cells": [
  {
   "cell_type": "markdown",
   "id": "ca521157-f059-4c9a-a7c1-5e3ccef8c65d",
   "metadata": {},
   "source": [
    " # SEMANTIC SEARCH"
   ]
  },
  {
   "cell_type": "markdown",
   "id": "8a0487ac-bbab-4b95-a20e-04604cc8d4f8",
   "metadata": {},
   "source": [
    "# Load data"
   ]
  },
  {
   "cell_type": "code",
   "execution_count": 2,
   "id": "a8bf1b68-54ee-42ae-bf0c-355672acb89a",
   "metadata": {},
   "outputs": [],
   "source": [
    "import pandas as pd"
   ]
  },
  {
   "cell_type": "code",
   "execution_count": 3,
   "id": "8e099aa4-9f21-4a25-891c-df56afd06911",
   "metadata": {},
   "outputs": [],
   "source": [
    "# create pandas df \n",
    "# take data from csv file \"medium_post_titles.csv\"\n",
    "\n",
    "df=pd.read_csv(\"medium_post_titles.csv\",nrows=10000)"
   ]
  },
  {
   "cell_type": "code",
   "execution_count": 6,
   "id": "f40bf74b-7367-4e95-a3d9-22ed63045f07",
   "metadata": {},
   "outputs": [],
   "source": [
    " MY_KEY= \"your_pinecone_key\""
   ]
  },
  {
   "cell_type": "markdown",
   "id": "d42fc684-3dd5-4194-a376-d99bc21b4501",
   "metadata": {},
   "source": [
    " # Data clean up"
   ]
  },
  {
   "cell_type": "code",
   "execution_count": null,
   "id": "a788f6a7-895a-46b4-a188-bd60974339aa",
   "metadata": {},
   "outputs": [],
   "source": [
    "# check for truncated subtitles\n",
    "df[\"subtitle_truncated_flag\"].value_counts()"
   ]
  },
  {
   "cell_type": "code",
   "execution_count": 8,
   "id": "7cbbf77f-d407-481e-a96f-50917a97d80d",
   "metadata": {},
   "outputs": [],
   "source": [
    "# drop null values\n",
    "df=df.dropna()"
   ]
  },
  {
   "cell_type": "code",
   "execution_count": 9,
   "id": "a2b12b32-9135-4783-8aba-37648d146545",
   "metadata": {},
   "outputs": [],
   "source": [
    "# create new df without truncated subtitles\n",
    "df = df[~df[\"subtitle_truncated_flag\"]]"
   ]
  },
  {
   "cell_type": "code",
   "execution_count": 10,
   "id": "3a2f0563-5538-4e2f-8403-cd027ee6d8ca",
   "metadata": {},
   "outputs": [
    {
     "data": {
      "text/plain": [
       "subtitle_truncated_flag\n",
       "False    6211\n",
       "Name: count, dtype: int64"
      ]
     },
     "execution_count": 10,
     "metadata": {},
     "output_type": "execute_result"
    }
   ],
   "source": [
    "df[\"subtitle_truncated_flag\"].value_counts()"
   ]
  },
  {
   "cell_type": "code",
   "execution_count": 11,
   "id": "722169ea-1314-4a77-b5bb-6c0c35c821e1",
   "metadata": {},
   "outputs": [
    {
     "data": {
      "text/plain": [
       "(6211, 4)"
      ]
     },
     "execution_count": 11,
     "metadata": {},
     "output_type": "execute_result"
    }
   ],
   "source": [
    "df.shape"
   ]
  },
  {
   "cell_type": "code",
   "execution_count": 12,
   "id": "4e515bb2-62bf-4adc-8643-2e8a14b742f6",
   "metadata": {},
   "outputs": [
    {
     "data": {
      "text/plain": [
       "0       \"21 Conversations\" - A fun (and easy) game for...\n",
       "1                            \"Biblical Porn\" at Mars Hill\n",
       "2                       \"CISGENDER?! Is That A Disease?!\"\n",
       "4                \"Can I Train my Model on Your Computer?\"\n",
       "5       \"Cypherpunks and Wall Street\": The Security To...\n",
       "                              ...                        \n",
       "9994       America Lets Too Much Young Talent Go to Waste\n",
       "9996    America Loves the Idea of Family Farms. That’s...\n",
       "9997    America May Need to Adopt China’s Weapons to W...\n",
       "9998    America May Outsmart China in 5G With AI and B...\n",
       "9999                         America Needs Bernie Sanders\n",
       "Name: title, Length: 6211, dtype: object"
      ]
     },
     "execution_count": 12,
     "metadata": {},
     "output_type": "execute_result"
    }
   ],
   "source": [
    "df['title']"
   ]
  },
  {
   "cell_type": "code",
   "execution_count": 13,
   "id": "a1a4ae01-6a0f-4f18-813b-3d04295f8d5c",
   "metadata": {},
   "outputs": [],
   "source": [
    "# create title extended for metadata\n",
    "df['title_extended']=df['title']+df['subtitle']"
   ]
  },
  {
   "cell_type": "code",
   "execution_count": 14,
   "id": "8ee47124-62e0-4a72-9a0f-054021c391ff",
   "metadata": {},
   "outputs": [
    {
     "data": {
      "text/plain": [
       "'\"Biblical Porn\" at Mars HillAuthor and UW lecturer Jessica Johnson talks about her new book on Mars Hill Church\\'s and Mark Driscoll\\'s evangelical masculinity'"
      ]
     },
     "execution_count": 14,
     "metadata": {},
     "output_type": "execute_result"
    }
   ],
   "source": [
    "df['title_extended'][1]"
   ]
  },
  {
   "cell_type": "code",
   "execution_count": 15,
   "id": "9bbd99ec-c784-4512-aa37-2dd6771357bf",
   "metadata": {},
   "outputs": [],
   "source": [
    "## all text ,emoji cleanup can be done , do it yourself if you want"
   ]
  },
  {
   "cell_type": "code",
   "execution_count": 16,
   "id": "7e3366a9-b593-4570-a657-bb55c2088727",
   "metadata": {},
   "outputs": [
    {
     "data": {
      "text/html": [
       "<div>\n",
       "<style scoped>\n",
       "    .dataframe tbody tr th:only-of-type {\n",
       "        vertical-align: middle;\n",
       "    }\n",
       "\n",
       "    .dataframe tbody tr th {\n",
       "        vertical-align: top;\n",
       "    }\n",
       "\n",
       "    .dataframe thead th {\n",
       "        text-align: right;\n",
       "    }\n",
       "</style>\n",
       "<table border=\"1\" class=\"dataframe\">\n",
       "  <thead>\n",
       "    <tr style=\"text-align: right;\">\n",
       "      <th></th>\n",
       "      <th>category</th>\n",
       "      <th>title</th>\n",
       "      <th>subtitle</th>\n",
       "      <th>subtitle_truncated_flag</th>\n",
       "      <th>title_extended</th>\n",
       "    </tr>\n",
       "  </thead>\n",
       "  <tbody>\n",
       "    <tr>\n",
       "      <th>0</th>\n",
       "      <td>work</td>\n",
       "      <td>\"21 Conversations\" - A fun (and easy) game for...</td>\n",
       "      <td>A (new?) Icebreaker game to get your team to s...</td>\n",
       "      <td>False</td>\n",
       "      <td>\"21 Conversations\" - A fun (and easy) game for...</td>\n",
       "    </tr>\n",
       "    <tr>\n",
       "      <th>1</th>\n",
       "      <td>spirituality</td>\n",
       "      <td>\"Biblical Porn\" at Mars Hill</td>\n",
       "      <td>Author and UW lecturer Jessica Johnson talks a...</td>\n",
       "      <td>False</td>\n",
       "      <td>\"Biblical Porn\" at Mars HillAuthor and UW lect...</td>\n",
       "    </tr>\n",
       "  </tbody>\n",
       "</table>\n",
       "</div>"
      ],
      "text/plain": [
       "       category                                              title  \\\n",
       "0          work  \"21 Conversations\" - A fun (and easy) game for...   \n",
       "1  spirituality                       \"Biblical Porn\" at Mars Hill   \n",
       "\n",
       "                                            subtitle  subtitle_truncated_flag  \\\n",
       "0  A (new?) Icebreaker game to get your team to s...                    False   \n",
       "1  Author and UW lecturer Jessica Johnson talks a...                    False   \n",
       "\n",
       "                                      title_extended  \n",
       "0  \"21 Conversations\" - A fun (and easy) game for...  \n",
       "1  \"Biblical Porn\" at Mars HillAuthor and UW lect...  "
      ]
     },
     "execution_count": 16,
     "metadata": {},
     "output_type": "execute_result"
    }
   ],
   "source": [
    "df.head(2)"
   ]
  },
  {
   "cell_type": "code",
   "execution_count": 17,
   "id": "4dfe87c2-ba6d-4736-8446-77e93e7e85e0",
   "metadata": {},
   "outputs": [
    {
     "data": {
      "text/plain": [
       "93"
      ]
     },
     "execution_count": 17,
     "metadata": {},
     "output_type": "execute_result"
    }
   ],
   "source": [
    "# can check for unique categories\n",
    "df['category'].nunique()"
   ]
  },
  {
   "cell_type": "markdown",
   "id": "00fff15f-6eb1-4310-bc6e-ad1e9c70c9a4",
   "metadata": {},
   "source": [
    "# Prep for upsert"
   ]
  },
  {
   "cell_type": "code",
   "execution_count": 20,
   "id": "99df6f23-654f-4188-a2c9-301f638fdb57",
   "metadata": {},
   "outputs": [],
   "source": [
    "from pinecone import Pinecone,ServerlessSpec\n",
    "from tqdm import tqdm\n",
    "\n",
    "pc=Pinecone(api_key=MY_KEY)"
   ]
  },
  {
   "cell_type": "code",
   "execution_count": 21,
   "id": "cba2c3f0-4df9-44ac-b7fe-f8620383b7bd",
   "metadata": {},
   "outputs": [
    {
     "data": {
      "text/plain": [
       "{\n",
       "    \"name\": \"medium-data\",\n",
       "    \"metric\": \"cosine\",\n",
       "    \"host\": \"medium-data-rqv7mxm.svc.aped-4627-b74a.pinecone.io\",\n",
       "    \"spec\": {\n",
       "        \"serverless\": {\n",
       "            \"cloud\": \"aws\",\n",
       "            \"region\": \"us-east-1\"\n",
       "        }\n",
       "    },\n",
       "    \"status\": {\n",
       "        \"ready\": true,\n",
       "        \"state\": \"Ready\"\n",
       "    },\n",
       "    \"vector_type\": \"dense\",\n",
       "    \"dimension\": 384,\n",
       "    \"deletion_protection\": \"disabled\",\n",
       "    \"tags\": null\n",
       "}"
      ]
     },
     "execution_count": 21,
     "metadata": {},
     "output_type": "execute_result"
    }
   ],
   "source": [
    "# create index\n",
    "pc.create_index(name=\"medium-data\",\n",
    "                dimension=384,\n",
    "                spec=ServerlessSpec(cloud='aws',region='us-east-1'))"
   ]
  },
  {
   "cell_type": "code",
   "execution_count": 2,
   "id": "9d20346c-b2b7-470f-a167-98140eee743f",
   "metadata": {},
   "outputs": [],
   "source": [
    "# import these libraries for embedding\n",
    "\n",
    "from sentence_transformers import SentenceTransformer\n",
    "import torch"
   ]
  },
  {
   "cell_type": "code",
   "execution_count": 3,
   "id": "a2f1a1dd-736f-4932-830c-aa27907489a7",
   "metadata": {},
   "outputs": [],
   "source": [
    "# using model from hugging face\n",
    "model = SentenceTransformer('all-MiniLM-L6-v2', device='cpu') # cuda or cpu"
   ]
  },
  {
   "cell_type": "code",
   "execution_count": 26,
   "id": "d91acd7e-4025-4b8c-b1cd-84830a9d4c11",
   "metadata": {},
   "outputs": [
    {
     "data": {
      "text/plain": [
       "SentenceTransformer(\n",
       "  (0): Transformer({'max_seq_length': 256, 'do_lower_case': False, 'architecture': 'BertModel'})\n",
       "  (1): Pooling({'word_embedding_dimension': 384, 'pooling_mode_cls_token': False, 'pooling_mode_mean_tokens': True, 'pooling_mode_max_tokens': False, 'pooling_mode_mean_sqrt_len_tokens': False, 'pooling_mode_weightedmean_tokens': False, 'pooling_mode_lasttoken': False, 'include_prompt': True})\n",
       "  (2): Normalize()\n",
       ")"
      ]
     },
     "execution_count": 26,
     "metadata": {},
     "output_type": "execute_result"
    }
   ],
   "source": [
    "model"
   ]
  },
  {
   "cell_type": "code",
   "execution_count": 29,
   "id": "cc78d44e-aadd-4636-80f0-21aab485a3a2",
   "metadata": {},
   "outputs": [],
   "source": [
    "# create embeddings for title_extended\n",
    "df['values'] = df['title_extended'].map(\n",
    "    lambda x: (model.encode(x)).tolist()) # python list as pinecone requires"
   ]
  },
  {
   "cell_type": "code",
   "execution_count": 31,
   "id": "d3042798-f67f-47e7-834d-e6ecc69d2c8b",
   "metadata": {},
   "outputs": [],
   "source": [
    "# create ids for upserting\n",
    "df['id'] = df.reset_index(drop = 'index').index"
   ]
  },
  {
   "cell_type": "code",
   "execution_count": 33,
   "id": "4c20ebdc-d9ae-4b83-9303-7745dd6f0925",
   "metadata": {},
   "outputs": [],
   "source": [
    "# create metadata\n",
    "df['metadata'] = df.apply(lambda x: {\n",
    "    'title' : x['title'],\n",
    "    'subtitle': x['subtitle'],\n",
    "    'category': x['category']\n",
    "    \n",
    "}, axis=1)"
   ]
  },
  {
   "cell_type": "code",
   "execution_count": 38,
   "id": "59e46055-d18c-4836-8482-8e48611989c4",
   "metadata": {},
   "outputs": [],
   "source": [
    "# create df to be upserted\n",
    "df_upsert = df[['id', 'values', 'metadata']]"
   ]
  },
  {
   "cell_type": "code",
   "execution_count": 42,
   "id": "06e469fe-f44d-4011-97b2-dc10d5a40d85",
   "metadata": {},
   "outputs": [
    {
     "name": "stderr",
     "output_type": "stream",
     "text": [
      "/var/folders/vj/wz93cjl13pl3syp4rq76m6980000gp/T/ipykernel_93521/3006284790.py:1: SettingWithCopyWarning: \n",
      "A value is trying to be set on a copy of a slice from a DataFrame.\n",
      "Try using .loc[row_indexer,col_indexer] = value instead\n",
      "\n",
      "See the caveats in the documentation: https://pandas.pydata.org/pandas-docs/stable/user_guide/indexing.html#returning-a-view-versus-a-copy\n",
      "  df_upsert['id'] = df_upsert['id'].map(lambda x: str(x))\n"
     ]
    }
   ],
   "source": [
    "# ids should be strings\n",
    "df_upsert['id'] = df_upsert['id'].map(lambda x: str(x))"
   ]
  },
  {
   "cell_type": "code",
   "execution_count": null,
   "id": "1f10171b-655c-4607-8b6a-7f7d555c2047",
   "metadata": {},
   "outputs": [],
   "source": [
    "df_upsert = df[['id', 'values', 'metadata']]"
   ]
  },
  {
   "cell_type": "code",
   "execution_count": 41,
   "id": "47c5ba07-0fba-403e-ae7e-86af852c07b1",
   "metadata": {},
   "outputs": [],
   "source": [
    "# initiate the index\n",
    "index =pc.Index('medium-data')"
   ]
  },
  {
   "cell_type": "code",
   "execution_count": 43,
   "id": "678584c5-7687-440c-a92c-209014cfdeda",
   "metadata": {},
   "outputs": [
    {
     "data": {
      "application/vnd.jupyter.widget-view+json": {
       "model_id": "c02c5c878da145bdbce7af4adb31c94a",
       "version_major": 2,
       "version_minor": 0
      },
      "text/plain": [
       "sending upsert requests:   0%|          | 0/6211 [00:00<?, ?it/s]"
      ]
     },
     "metadata": {},
     "output_type": "display_data"
    },
    {
     "data": {
      "text/plain": [
       "{'upserted_count': 6211}"
      ]
     },
     "execution_count": 43,
     "metadata": {},
     "output_type": "execute_result"
    }
   ],
   "source": [
    "# upsert the data\n",
    "index.upsert_from_dataframe(df_upsert) # 6k takes 1 min"
   ]
  },
  {
   "cell_type": "markdown",
   "id": "3253e1cf-724e-45b5-9816-eeabfa84a979",
   "metadata": {},
   "source": [
    "# Query"
   ]
  },
  {
   "cell_type": "code",
   "execution_count": 47,
   "id": "13ea2ebd-9558-4c84-bcbc-ff40522db774",
   "metadata": {},
   "outputs": [],
   "source": [
    "query_vector = model.encode(\"which city is the most beautiful\").tolist()\n",
    "\n",
    "results = index.query(\n",
    "    vector=query_vector,\n",
    "    top_k=10,\n",
    "    include_metadata=True\n",
    ")\n"
   ]
  },
  {
   "cell_type": "code",
   "execution_count": 48,
   "id": "958f82f2-0463-4ee0-822d-44e23eaa7daa",
   "metadata": {},
   "outputs": [
    {
     "data": {
      "text/plain": [
       "{'matches': [{'id': '994',\n",
       "              'metadata': {'category': 'photography',\n",
       "                           'subtitle': 'If you are willing to look hard '\n",
       "                                       'enough, eventually you will see beauty '\n",
       "                                       'in the most difficult of places.',\n",
       "                           'title': '3 Places Where You Can Find Beauty'},\n",
       "              'score': 0.573749602,\n",
       "              'values': []},\n",
       "             {'id': '1931',\n",
       "              'metadata': {'category': 'travel',\n",
       "                           'subtitle': 'Pembrokeshire is as beautiful as the '\n",
       "                                       'Italian Coast.',\n",
       "                           'title': '6 Easy Reasons to Enjoy Exploring South '\n",
       "                                    'Wales'},\n",
       "              'score': 0.463108093,\n",
       "              'values': []},\n",
       "             {'id': '2778',\n",
       "              'metadata': {'category': 'accessibility',\n",
       "                           'subtitle': 'Complete parity with the sighted may '\n",
       "                                       'seem like an impossible goal, but '\n",
       "                                       'maybe the only thing holding us back '\n",
       "                                       'is a lack of imagination.',\n",
       "                           'title': 'A City That’s Better for the Blind Is '\n",
       "                                    'Better for Everyone'},\n",
       "              'score': 0.453244209,\n",
       "              'values': []},\n",
       "             {'id': '4053',\n",
       "              'metadata': {'category': 'politics',\n",
       "                           'subtitle': 'What does America stand for?',\n",
       "                           'title': 'A Shining City on a Hill'},\n",
       "              'score': 0.449748069,\n",
       "              'values': []},\n",
       "             {'id': '3620',\n",
       "              'metadata': {'category': 'sports',\n",
       "                           'subtitle': 'The World Cup gets advertising right',\n",
       "                           'title': 'A Most Beautiful Game'},\n",
       "              'score': 0.424210548,\n",
       "              'values': []},\n",
       "             {'id': '1956',\n",
       "              'metadata': {'category': 'travel',\n",
       "                           'subtitle': 'Combine your love for books and travel '\n",
       "                                       'with these 6 literary cities.',\n",
       "                           'title': '6 Literary Cities for Book Lovers To '\n",
       "                                    'Visit This Year'},\n",
       "              'score': 0.402499139,\n",
       "              'values': []},\n",
       "             {'id': '5248',\n",
       "              'metadata': {'category': 'ux',\n",
       "                           'subtitle': 'Discover the city you are visting like '\n",
       "                                       'a local',\n",
       "                           'title': 'Ace Hotel: A UX Case Study'},\n",
       "              'score': 0.402377129,\n",
       "              'values': []},\n",
       "             {'id': '4544',\n",
       "              'metadata': {'category': 'cities',\n",
       "                           'subtitle': 'Bangalore Chapter',\n",
       "                           'title': 'A city and its architecture'},\n",
       "              'score': 0.39048484,\n",
       "              'values': []},\n",
       "             {'id': '5321',\n",
       "              'metadata': {'category': 'design',\n",
       "                           'subtitle': 'Choatic nature of order',\n",
       "                           'title': 'Adaptive urban design'},\n",
       "              'score': 0.384830505,\n",
       "              'values': []},\n",
       "             {'id': '5483',\n",
       "              'metadata': {'category': 'spirituality',\n",
       "                           'subtitle': 'Examining life through a lens of '\n",
       "                                       'beauty',\n",
       "                           'title': 'Aesthetics of Being'},\n",
       "              'score': 0.380190402,\n",
       "              'values': []}],\n",
       " 'namespace': '',\n",
       " 'usage': {'read_units': 1}}"
      ]
     },
     "execution_count": 48,
     "metadata": {},
     "output_type": "execute_result"
    }
   ],
   "source": [
    "results"
   ]
  },
  {
   "cell_type": "code",
   "execution_count": 52,
   "id": "104e1b5f-e2dc-465a-8087-9ae481a0278c",
   "metadata": {},
   "outputs": [
    {
     "name": "stdout",
     "output_type": "stream",
     "text": [
      "0.57: If you are willing to look hard enough, eventually you will see beauty in the most difficult of places.: photography \n",
      "0.46: Pembrokeshire is as beautiful as the Italian Coast.: travel \n",
      "0.45: Complete parity with the sighted may seem like an impossible goal, but maybe the only thing holding us back is a lack of imagination.: accessibility \n",
      "0.45: What does America stand for?: politics \n",
      "0.42: The World Cup gets advertising right: sports \n",
      "0.4: Combine your love for books and travel with these 6 literary cities.: travel \n",
      "0.4: Discover the city you are visting like a local: ux \n",
      "0.39: Bangalore Chapter: cities \n",
      "0.38: Choatic nature of order: design \n",
      "0.38: Examining life through a lens of beauty: spirituality \n"
     ]
    }
   ],
   "source": [
    "for result in results['matches']:\n",
    "    print(f\"{round(result['score'], 2)}: {result['metadata']['subtitle']}: {result['metadata']['category']} \")"
   ]
  },
  {
   "cell_type": "code",
   "execution_count": null,
   "id": "3910fd3c-95ed-4464-8b99-701da694af87",
   "metadata": {},
   "outputs": [],
   "source": []
  }
 ],
 "metadata": {
  "kernelspec": {
   "display_name": "Python [conda env:base] *",
   "language": "python",
   "name": "conda-base-py"
  },
  "language_info": {
   "codemirror_mode": {
    "name": "ipython",
    "version": 3
   },
   "file_extension": ".py",
   "mimetype": "text/x-python",
   "name": "python",
   "nbconvert_exporter": "python",
   "pygments_lexer": "ipython3",
   "version": "3.12.7"
  }
 },
 "nbformat": 4,
 "nbformat_minor": 5
}
