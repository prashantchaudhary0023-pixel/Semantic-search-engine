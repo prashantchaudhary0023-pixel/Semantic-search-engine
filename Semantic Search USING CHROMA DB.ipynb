{
 "cells": [
  {
   "cell_type": "markdown",
   "id": "ca1a1284-29cd-4256-8d8e-8ffea574df03",
   "metadata": {},
   "source": [
    "# Load data"
   ]
  },
  {
   "cell_type": "code",
   "execution_count": 2,
   "id": "e706064a-f2ba-4719-a9ab-5e8a25fcadbe",
   "metadata": {},
   "outputs": [],
   "source": [
    "import pandas as pd\n",
    "import chromadb as chromadb"
   ]
  },
  {
   "cell_type": "code",
   "execution_count": 3,
   "id": "94b9967d-438f-4bd5-8f96-c6357259f685",
   "metadata": {},
   "outputs": [],
   "source": [
    "# data source: https://www.kaggle.com/datasets/nulldata/medium-post-titles\n",
    "df = pd.read_csv(\"medium_post_titles.csv\")\n",
    "\n",
    "df = df.dropna()\n",
    "df = df[~df[\"subtitle_truncated_flag\"]]\n",
    "\n",
    "topics_of_interest = ['artificial-intelligence', 'data-science', 'machine-learning']\n",
    "# topics_of_interest = ['data-science']\n",
    "\n",
    "df = df[df['category'].isin(topics_of_interest)]\n",
    "\n",
    "df['text'] = df['title']  + df['subtitle']\n",
    "\n",
    "df['meta'] = df.apply( lambda x: {\n",
    "    'text': x['text'],\n",
    "    'category': x['category']  \n",
    "}, axis=1)"
   ]
  },
  {
   "cell_type": "code",
   "execution_count": 5,
   "id": "eb660fd7-2e74-4f21-80f2-00c292bb2f89",
   "metadata": {},
   "outputs": [
    {
     "data": {
      "text/html": [
       "<div>\n",
       "<style scoped>\n",
       "    .dataframe tbody tr th:only-of-type {\n",
       "        vertical-align: middle;\n",
       "    }\n",
       "\n",
       "    .dataframe tbody tr th {\n",
       "        vertical-align: top;\n",
       "    }\n",
       "\n",
       "    .dataframe thead th {\n",
       "        text-align: right;\n",
       "    }\n",
       "</style>\n",
       "<table border=\"1\" class=\"dataframe\">\n",
       "  <thead>\n",
       "    <tr style=\"text-align: right;\">\n",
       "      <th></th>\n",
       "      <th>category</th>\n",
       "      <th>title</th>\n",
       "      <th>subtitle</th>\n",
       "      <th>subtitle_truncated_flag</th>\n",
       "      <th>text</th>\n",
       "      <th>meta</th>\n",
       "    </tr>\n",
       "  </thead>\n",
       "  <tbody>\n",
       "    <tr>\n",
       "      <th>4</th>\n",
       "      <td>artificial-intelligence</td>\n",
       "      <td>\"Can I Train my Model on Your Computer?\"</td>\n",
       "      <td>How we waste computational resources and how t...</td>\n",
       "      <td>False</td>\n",
       "      <td>\"Can I Train my Model on Your Computer?\"How we...</td>\n",
       "      <td>{'text': '\"Can I Train my Model on Your Comput...</td>\n",
       "    </tr>\n",
       "    <tr>\n",
       "      <th>289</th>\n",
       "      <td>data-science</td>\n",
       "      <td>(Robot) data scientists as a service</td>\n",
       "      <td>Automating data science with symbolic regressi...</td>\n",
       "      <td>False</td>\n",
       "      <td>(Robot) data scientists as a serviceAutomating...</td>\n",
       "      <td>{'text': '(Robot) data scientists as a service...</td>\n",
       "    </tr>\n",
       "  </tbody>\n",
       "</table>\n",
       "</div>"
      ],
      "text/plain": [
       "                    category                                     title  \\\n",
       "4    artificial-intelligence  \"Can I Train my Model on Your Computer?\"   \n",
       "289             data-science      (Robot) data scientists as a service   \n",
       "\n",
       "                                              subtitle  \\\n",
       "4    How we waste computational resources and how t...   \n",
       "289  Automating data science with symbolic regressi...   \n",
       "\n",
       "     subtitle_truncated_flag  \\\n",
       "4                      False   \n",
       "289                    False   \n",
       "\n",
       "                                                  text  \\\n",
       "4    \"Can I Train my Model on Your Computer?\"How we...   \n",
       "289  (Robot) data scientists as a serviceAutomating...   \n",
       "\n",
       "                                                  meta  \n",
       "4    {'text': '\"Can I Train my Model on Your Comput...  \n",
       "289  {'text': '(Robot) data scientists as a service...  "
      ]
     },
     "execution_count": 5,
     "metadata": {},
     "output_type": "execute_result"
    }
   ],
   "source": [
    "df.head(2)"
   ]
  },
  {
   "cell_type": "markdown",
   "id": "62ecba59-b824-4e3b-8c2a-89efe910eccb",
   "metadata": {},
   "source": [
    "# chroma db setup"
   ]
  },
  {
   "cell_type": "code",
   "execution_count": 27,
   "id": "e65ade79-6b53-472d-8d65-ddde84b40c78",
   "metadata": {},
   "outputs": [],
   "source": [
    "from chromadb.config import Settings"
   ]
  },
  {
   "cell_type": "code",
   "execution_count": 7,
   "id": "90deb644-248f-46c6-9e1f-19a4fc888548",
   "metadata": {},
   "outputs": [],
   "source": [
    "# initiating a client\n",
    "chroma_client = chromadb.Client() #in memory db\n",
    "# collections(its like an abstract index)\n",
    "article_collection=chroma_client.create_collection(name='medium-article')"
   ]
  },
  {
   "cell_type": "code",
   "execution_count": 29,
   "id": "bb1e7a7a-8aa8-46b0-b574-ab9a45e975fd",
   "metadata": {},
   "outputs": [],
   "source": [
    "# initiating a client\n",
    "chroma_client = chromadb.PersistentClient(\n",
    "    path=\"medium-chroma-db\"\n",
    ") #persistent memory\n",
    "# collections(its like an abstract index)\n",
    "article_collection=chroma_client.create_collection(name='medium-article')"
   ]
  },
  {
   "cell_type": "code",
   "execution_count": 18,
   "id": "e5d5a59d-5d24-4021-8031-f94cecc28196",
   "metadata": {},
   "outputs": [],
   "source": [
    "## data insertion"
   ]
  },
  {
   "cell_type": "code",
   "execution_count": 30,
   "id": "23878006-4071-4a94-ae42-7e713aca9884",
   "metadata": {},
   "outputs": [],
   "source": [
    "# inserting data\n",
    "article_collection.upsert(\n",
    "    ids=[f\"{x}\" for x in df.index.tolist()],\n",
    "    documents=df['text'].tolist(),\n",
    "    metadatas=df['meta'].tolist()\n",
    ")"
   ]
  },
  {
   "cell_type": "code",
   "execution_count": 19,
   "id": "426bd7ab-76ca-43a8-a929-9971a0ebd4bc",
   "metadata": {},
   "outputs": [],
   "source": [
    "## [f\"{x}\" for x in df.index] list (int to str)"
   ]
  },
  {
   "cell_type": "markdown",
   "id": "22b46b1d-8430-4810-9b12-3cd14c3ede4b",
   "metadata": {},
   "source": [
    "# vector query"
   ]
  },
  {
   "cell_type": "code",
   "execution_count": 25,
   "id": "1f09e0ba-9a26-402e-b213-34b7f03fd4ee",
   "metadata": {},
   "outputs": [],
   "source": [
    "qry_str=\"best data ai library?\""
   ]
  },
  {
   "cell_type": "code",
   "execution_count": 26,
   "id": "66daf1ff-0de8-4c1e-8fa3-856830cdd9c9",
   "metadata": {},
   "outputs": [
    {
     "data": {
      "text/plain": [
       "{'ids': [['103719']],\n",
       " 'embeddings': None,\n",
       " 'documents': [['Top 7 libraries and packages of the year for Data Science and AI: Python & RThis is a list of the best libraries and packages that changed our lives this year, compiled from my weekly digests']],\n",
       " 'uris': None,\n",
       " 'included': ['metadatas', 'documents', 'distances'],\n",
       " 'data': None,\n",
       " 'metadatas': [[{'text': 'Top 7 libraries and packages of the year for Data Science and AI: Python & RThis is a list of the best libraries and packages that changed our lives this year, compiled from my weekly digests',\n",
       "    'category': 'machine-learning'}]],\n",
       " 'distances': [[0.6297022700309753]]}"
      ]
     },
     "execution_count": 26,
     "metadata": {},
     "output_type": "execute_result"
    }
   ],
   "source": [
    "article_collection.query(query_texts=qry_str,n_results=1)"
   ]
  },
  {
   "cell_type": "code",
   "execution_count": null,
   "id": "deb6ed1f-bd7a-468d-886e-32d285013d4c",
   "metadata": {},
   "outputs": [],
   "source": []
  }
 ],
 "metadata": {
  "kernelspec": {
   "display_name": "Python [conda env:base] *",
   "language": "python",
   "name": "conda-base-py"
  },
  "language_info": {
   "codemirror_mode": {
    "name": "ipython",
    "version": 3
   },
   "file_extension": ".py",
   "mimetype": "text/x-python",
   "name": "python",
   "nbconvert_exporter": "python",
   "pygments_lexer": "ipython3",
   "version": "3.12.7"
  }
 },
 "nbformat": 4,
 "nbformat_minor": 5
}
